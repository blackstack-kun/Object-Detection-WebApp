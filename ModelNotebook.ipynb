{
 "cells": [
  {
   "cell_type": "markdown",
   "id": "f260a910-9c97-45e4-9cf6-c5199ddd6765",
   "metadata": {},
   "source": [
    "## Importing the Necessary Libraries"
   ]
  },
  {
   "cell_type": "code",
   "execution_count": 1,
   "id": "a418e91b-767c-402c-8a1e-f2caa2e1fafd",
   "metadata": {},
   "outputs": [],
   "source": [
    "import os\n",
    "import cv2\n",
    "import numpy as np\n",
    "import tensorflow as tf\n",
    "import matplotlib.pyplot as plt\n",
    "from matplotlib.patches import Rectangle"
   ]
  },
  {
   "cell_type": "markdown",
   "id": "ae437e73-e21a-4634-91d7-a39e68c776c0",
   "metadata": {},
   "source": [
    "## Load the pretrained OD Model on COCO Dataset"
   ]
  },
  {
   "cell_type": "code",
   "execution_count": 2,
   "id": "c0f12344-48ad-43ad-b97b-e5bcb4f53acd",
   "metadata": {},
   "outputs": [],
   "source": [
    "model = tf.saved_model.load('./ssd_mobilenet_v2_fpnlite_320x320_coco17_tpu-8/saved_model')\n",
    "\n",
    "# Load class names\n",
    "class_names = {}\n",
    "current_id = None\n",
    "with open('./mscoco_complete_label_map.pbtxt', 'r') as f:\n",
    "    for line in f:\n",
    "        if \"id:\" in line:\n",
    "            current_id = int(line.strip().split(' ')[-1])\n",
    "        if \"display_name:\" in line:\n",
    "            display_name = line.strip().split('\"')[1]\n",
    "            class_names[current_id] = display_name"
   ]
  },
  {
   "cell_type": "markdown",
   "id": "0976f8ce-fb78-4892-9c81-59aec20185ef",
   "metadata": {},
   "source": [
    "### Function to Draw the box, using the Output Bounding Box Coords"
   ]
  },
  {
   "cell_type": "code",
   "execution_count": 3,
   "id": "9c58f7e3-35fb-4d32-b41a-19de51d7c55a",
   "metadata": {},
   "outputs": [],
   "source": [
    "def draw_boxes(frame, boxes, classes, scores, min_score_thresh=.5):\n",
    "    fig, ax = plt.subplots(1, figsize=(12, 8))\n",
    "    ax.imshow(cv2.cvtColor(frame, cv2.COLOR_BGR2RGB))\n",
    "    for i in range(boxes.shape[1]):\n",
    "        if scores[0, i] > min_score_thresh:\n",
    "            box = boxes[0, i] * np.array([frame.shape[0], frame.shape[1], frame.shape[0], frame.shape[1]])\n",
    "            class_id = classes[0, i]\n",
    "            class_name = class_names.get(class_id, 'N/A')\n",
    "            rect = Rectangle((box[1], box[0]), box[3] - box[1], box[2] - box[0], \n",
    "                             linewidth=2, edgecolor='r', facecolor='none')\n",
    "            ax.add_patch(rect)\n",
    "            plt.text(box[1], box[0] - 10, class_name, color='r', fontsize=12, weight='bold')\n",
    "\n",
    "    plt.axis('off')\n",
    "    plt.show()"
   ]
  },
  {
   "cell_type": "markdown",
   "id": "9a18a2bb-7081-4a68-aa47-57f6164bd861",
   "metadata": {},
   "source": [
    "## **MAIN FUNCTION TO DETECT OBJECT**"
   ]
  },
  {
   "cell_type": "code",
   "execution_count": 4,
   "id": "52617c72-2c87-4126-b042-6d176a3ccfd6",
   "metadata": {},
   "outputs": [],
   "source": [
    "def detect_objects(image_path):\n",
    "    frame = cv2.imread(image_path)\n",
    "\n",
    "    if frame is None:\n",
    "        raise ValueError(f\"Unable to read image at path: {image_path}\")\n",
    "\n",
    "    # Object detection\n",
    "    input_tensor = tf.convert_to_tensor([frame], dtype=tf.uint8)\n",
    "    detections = model(input_tensor)\n",
    "\n",
    "    # Extracting detection results\n",
    "    boxes = detections['detection_boxes'].numpy()\n",
    "    classes = detections['detection_classes'].numpy().astype(np.int32)\n",
    "    scores = detections['detection_scores'].numpy()\n",
    "\n",
    "    # Draw boxes on the image\n",
    "    draw_boxes(frame, boxes, classes, scores)\n",
    "\n",
    "    # Create a list of detected objects\n",
    "    detected_objects = []\n",
    "    for i in range(boxes.shape[1]):\n",
    "        if scores[0, i] > 0.5:  # threshold can be adjusted\n",
    "            class_id = int(classes[0, i])\n",
    "            class_name = class_names.get(class_id, 'N/A')\n",
    "            detected_objects.append(class_name)\n",
    "\n",
    "    return detected_objects"
   ]
  },
  {
   "cell_type": "markdown",
   "id": "dd761501-d0e2-4c8c-8347-232872a5dae1",
   "metadata": {},
   "source": [
    "## Testing The Model"
   ]
  },
  {
   "cell_type": "code",
   "execution_count": null,
   "id": "7168639c-1883-4a0a-85e3-40e309189b9a",
   "metadata": {
    "scrolled": true
   },
   "outputs": [],
   "source": [
    "\n",
    "image_path = './test/test1.jpg'\n",
    "if not os.path.isfile(image_path):\n",
    "    print(\"File does not exist\")\n",
    "else:\n",
    "    print(\"File exists\")\n",
    "detected_objects = detect_objects(image_path)\n",
    "print(f\"Detected objects: {detected_objects}\")"
   ]
  },
  {
   "cell_type": "code",
   "execution_count": null,
   "id": "1eb00025-b634-4cee-8ad7-e5bc2fd84ecd",
   "metadata": {},
   "outputs": [],
   "source": []
  }
 ],
 "metadata": {
  "kernelspec": {
   "display_name": "Python 3 (ipykernel)",
   "language": "python",
   "name": "python3"
  },
  "language_info": {
   "codemirror_mode": {
    "name": "ipython",
    "version": 3
   },
   "file_extension": ".py",
   "mimetype": "text/x-python",
   "name": "python",
   "nbconvert_exporter": "python",
   "pygments_lexer": "ipython3",
   "version": "3.10.11"
  }
 },
 "nbformat": 4,
 "nbformat_minor": 5
}
